{
 "cells": [
  {
   "cell_type": "code",
   "execution_count": 1,
   "id": "0fb76b9b-d559-4531-9db1-180d91ed19f0",
   "metadata": {
    "tags": []
   },
   "outputs": [],
   "source": [
    "#importing libraries\n",
    "import matplotlib.pyplot as plt\n",
    "import pandas as pd "
   ]
  },
  {
   "cell_type": "code",
   "execution_count": 2,
   "id": "e521eab5-ecb5-4cbd-8207-9ef450cb5e29",
   "metadata": {
    "tags": []
   },
   "outputs": [
    {
     "data": {
      "text/html": [
       "<div>\n",
       "<style scoped>\n",
       "    .dataframe tbody tr th:only-of-type {\n",
       "        vertical-align: middle;\n",
       "    }\n",
       "\n",
       "    .dataframe tbody tr th {\n",
       "        vertical-align: top;\n",
       "    }\n",
       "\n",
       "    .dataframe thead th {\n",
       "        text-align: right;\n",
       "    }\n",
       "</style>\n",
       "<table border=\"1\" class=\"dataframe\">\n",
       "  <thead>\n",
       "    <tr style=\"text-align: right;\">\n",
       "      <th></th>\n",
       "      <th>Number</th>\n",
       "      <th>person</th>\n",
       "    </tr>\n",
       "  </thead>\n",
       "  <tbody>\n",
       "    <tr>\n",
       "      <th>0</th>\n",
       "      <td>8</td>\n",
       "      <td>p1</td>\n",
       "    </tr>\n",
       "    <tr>\n",
       "      <th>1</th>\n",
       "      <td>20</td>\n",
       "      <td>p2</td>\n",
       "    </tr>\n",
       "    <tr>\n",
       "      <th>2</th>\n",
       "      <td>25</td>\n",
       "      <td>p3</td>\n",
       "    </tr>\n",
       "    <tr>\n",
       "      <th>3</th>\n",
       "      <td>2</td>\n",
       "      <td>p4</td>\n",
       "    </tr>\n",
       "    <tr>\n",
       "      <th>4</th>\n",
       "      <td>13</td>\n",
       "      <td>p5</td>\n",
       "    </tr>\n",
       "    <tr>\n",
       "      <th>5</th>\n",
       "      <td>15</td>\n",
       "      <td>p6</td>\n",
       "    </tr>\n",
       "    <tr>\n",
       "      <th>6</th>\n",
       "      <td>3</td>\n",
       "      <td>p7</td>\n",
       "    </tr>\n",
       "    <tr>\n",
       "      <th>7</th>\n",
       "      <td>9</td>\n",
       "      <td>p8</td>\n",
       "    </tr>\n",
       "  </tbody>\n",
       "</table>\n",
       "</div>"
      ],
      "text/plain": [
       "   Number person\n",
       "0       8     p1\n",
       "1      20     p2\n",
       "2      25     p3\n",
       "3       2     p4\n",
       "4      13     p5\n",
       "5      15     p6\n",
       "6       3     p7\n",
       "7       9     p8"
      ]
     },
     "execution_count": 2,
     "metadata": {},
     "output_type": "execute_result"
    }
   ],
   "source": [
    "#step 2 :create a or load data frame\n",
    "data ={'Number':[8,20,25,2,13,15,3,9],\n",
    "      'person':['p1','p2','p3','p4','p5','p6','p7','p8']\n",
    "      }\n",
    "DF = pd.DataFrame(data)\n",
    "DF"
   ]
  },
  {
   "cell_type": "code",
   "execution_count": 3,
   "id": "1ec44ee0-590f-4790-b7c2-170e360b5bcb",
   "metadata": {},
   "outputs": [
    {
     "data": {
      "text/html": [
       "<div>\n",
       "<style scoped>\n",
       "    .dataframe tbody tr th:only-of-type {\n",
       "        vertical-align: middle;\n",
       "    }\n",
       "\n",
       "    .dataframe tbody tr th {\n",
       "        vertical-align: top;\n",
       "    }\n",
       "\n",
       "    .dataframe thead th {\n",
       "        text-align: right;\n",
       "    }\n",
       "</style>\n",
       "<table border=\"1\" class=\"dataframe\">\n",
       "  <thead>\n",
       "    <tr style=\"text-align: right;\">\n",
       "      <th></th>\n",
       "      <th>Number</th>\n",
       "      <th>person</th>\n",
       "    </tr>\n",
       "  </thead>\n",
       "  <tbody>\n",
       "    <tr>\n",
       "      <th>2</th>\n",
       "      <td>25</td>\n",
       "      <td>p3</td>\n",
       "    </tr>\n",
       "    <tr>\n",
       "      <th>1</th>\n",
       "      <td>20</td>\n",
       "      <td>p2</td>\n",
       "    </tr>\n",
       "    <tr>\n",
       "      <th>5</th>\n",
       "      <td>15</td>\n",
       "      <td>p6</td>\n",
       "    </tr>\n",
       "    <tr>\n",
       "      <th>4</th>\n",
       "      <td>13</td>\n",
       "      <td>p5</td>\n",
       "    </tr>\n",
       "    <tr>\n",
       "      <th>7</th>\n",
       "      <td>9</td>\n",
       "      <td>p8</td>\n",
       "    </tr>\n",
       "    <tr>\n",
       "      <th>0</th>\n",
       "      <td>8</td>\n",
       "      <td>p1</td>\n",
       "    </tr>\n",
       "    <tr>\n",
       "      <th>6</th>\n",
       "      <td>3</td>\n",
       "      <td>p7</td>\n",
       "    </tr>\n",
       "    <tr>\n",
       "      <th>3</th>\n",
       "      <td>2</td>\n",
       "      <td>p4</td>\n",
       "    </tr>\n",
       "  </tbody>\n",
       "</table>\n",
       "</div>"
      ],
      "text/plain": [
       "   Number person\n",
       "2      25     p3\n",
       "1      20     p2\n",
       "5      15     p6\n",
       "4      13     p5\n",
       "7       9     p8\n",
       "0       8     p1\n",
       "6       3     p7\n",
       "3       2     p4"
      ]
     },
     "execution_count": 3,
     "metadata": {},
     "output_type": "execute_result"
    }
   ],
   "source": [
    "#step 3 : Sort the dataframe by the column you want to use to determine the order of the bars \n",
    "#sorting the columns value \n",
    "DF = DF.sort_values(by='Number',ascending=False )\n",
    "DF"
   ]
  },
  {
   "cell_type": "code",
   "execution_count": 4,
   "id": "9ad27009-8c75-4bfe-84bf-28a1491e816c",
   "metadata": {
    "tags": []
   },
   "outputs": [
    {
     "data": {
      "text/html": [
       "<div>\n",
       "<style scoped>\n",
       "    .dataframe tbody tr th:only-of-type {\n",
       "        vertical-align: middle;\n",
       "    }\n",
       "\n",
       "    .dataframe tbody tr th {\n",
       "        vertical-align: top;\n",
       "    }\n",
       "\n",
       "    .dataframe thead th {\n",
       "        text-align: right;\n",
       "    }\n",
       "</style>\n",
       "<table border=\"1\" class=\"dataframe\">\n",
       "  <thead>\n",
       "    <tr style=\"text-align: right;\">\n",
       "      <th></th>\n",
       "      <th>Number</th>\n",
       "      <th>person</th>\n",
       "    </tr>\n",
       "  </thead>\n",
       "  <tbody>\n",
       "    <tr>\n",
       "      <th>2</th>\n",
       "      <td>25</td>\n",
       "      <td>p3</td>\n",
       "    </tr>\n",
       "    <tr>\n",
       "      <th>1</th>\n",
       "      <td>20</td>\n",
       "      <td>p2</td>\n",
       "    </tr>\n",
       "    <tr>\n",
       "      <th>5</th>\n",
       "      <td>15</td>\n",
       "      <td>p6</td>\n",
       "    </tr>\n",
       "    <tr>\n",
       "      <th>4</th>\n",
       "      <td>13</td>\n",
       "      <td>p5</td>\n",
       "    </tr>\n",
       "    <tr>\n",
       "      <th>7</th>\n",
       "      <td>9</td>\n",
       "      <td>p8</td>\n",
       "    </tr>\n",
       "  </tbody>\n",
       "</table>\n",
       "</div>"
      ],
      "text/plain": [
       "   Number person\n",
       "2      25     p3\n",
       "1      20     p2\n",
       "5      15     p6\n",
       "4      13     p5\n",
       "7       9     p8"
      ]
     },
     "execution_count": 4,
     "metadata": {},
     "output_type": "execute_result"
    }
   ],
   "source": [
    "#step 4 : Slice the Dataframe to only the top 5 rows\n",
    "df = DF.head(5)\n",
    "df"
   ]
  },
  {
   "cell_type": "code",
   "execution_count": 5,
   "id": "1b2176c8-a37c-4c1c-8753-98046f1a4f2d",
   "metadata": {
    "tags": []
   },
   "outputs": [],
   "source": [
    "#step 5: define the colors you want to use for the bars \n",
    "colors = ['#22577a','#38a3a5','#57cc99','#80ed99','#c7f9cc']"
   ]
  },
  {
   "cell_type": "code",
   "execution_count": 6,
   "id": "b2c6d99e-ade0-468f-adb6-610b555ec6bc",
   "metadata": {
    "tags": []
   },
   "outputs": [
    {
     "data": {
      "text/plain": [
       "(0.0, 30.0)"
      ]
     },
     "execution_count": 6,
     "metadata": {},
     "output_type": "execute_result"
    },
    {
     "data": {
      "image/png": "[encoded data removed]",
      "text/plain": [
       "<Figure size 640x480 with 1 Axes>"
      ]
     },
     "metadata": {},
     "output_type": "display_data"
    }
   ],
   "source": [
    "#Horizontal\n",
    "#step 6: Create a horizontal bar plot\n",
    "fig,ax=plt.subplots()\n",
    "bars = ax.barh(df['person'],df['Number'],color =colors)\n",
    "\n",
    "#step 7: Customize the plot\n",
    "for i , bar in enumerate(bars):\n",
    "    ax.text(bar.get_width()+0.10,bar.get_y()+bar.get_height()/2,df['Number'].iloc[i],ha='left',va='center',fontsize=11)\n",
    "ax.set_xlabel('Number')\n",
    "ax.set_title('number of pet owned by each person')\n",
    "ax.set_xlim([0,30])"
   ]
  },
  {
   "cell_type": "code",
   "execution_count": 7,
   "id": "6f234895-da5f-4ef2-aaad-2179acb12a0a",
   "metadata": {
    "tags": []
   },
   "outputs": [
    {
     "data": {
      "image/png": "[encoded data removed]",
      "text/plain": [
       "<Figure size 640x480 with 1 Axes>"
      ]
     },
     "metadata": {},
     "output_type": "display_data"
    }
   ],
   "source": [
    "#Vertical\n",
    "#step 6: Create a vertical bar plot\n",
    "fig,ax = plt.subplots()\n",
    "bars=ax.bar(df['person'],df['Number'],color=colors)\n",
    "\n",
    "#step 7: customize the plot\n",
    "for i,bar in enumerate(bars):\n",
    "    ax.text(bar.get_x()+bar.get_width()/2,bar.get_height()+0.5,df['Number'].iloc[i],ha='center',va='bottom',fontsize=11)\n",
    "    \n",
    "ax.set_ylabel('Number')\n",
    "ax.set_title('number of pet owned by each person')\n",
    "ax.set_ylim([0,30])\n",
    "\n",
    "#step 8: show the bar \n",
    "plt.show()"
   ]
  },
  {
   "cell_type": "markdown",
   "id": "afd870e0-d9cb-4548-af8c-ac59035be93a",
   "metadata": {
    "tags": []
   },
   "source": [
    "**🧧🧧**\n"
   ]
  },
  {
   "cell_type": "markdown",
   "id": "7e3c4f94-8be5-45c3-a6be-4a0301296ade",
   "metadata": {
    "tags": []
   },
   "source": [
    "**🧨🧨🧨🧨🧨🧨Data Preparation**"
   ]
  },
  {
   "cell_type": "code",
   "execution_count": 8,
   "id": "f803defb-4d6b-49bd-99e3-b402121196e9",
   "metadata": {
    "tags": []
   },
   "outputs": [
    {
     "data": {
      "text/html": [
       "<div>\n",
       "<style scoped>\n",
       "    .dataframe tbody tr th:only-of-type {\n",
       "        vertical-align: middle;\n",
       "    }\n",
       "\n",
       "    .dataframe tbody tr th {\n",
       "        vertical-align: top;\n",
       "    }\n",
       "\n",
       "    .dataframe thead th {\n",
       "        text-align: right;\n",
       "    }\n",
       "</style>\n",
       "<table border=\"1\" class=\"dataframe\">\n",
       "  <thead>\n",
       "    <tr style=\"text-align: right;\">\n",
       "      <th></th>\n",
       "      <th>Rank</th>\n",
       "      <th>Country / Dependency</th>\n",
       "      <th>Region</th>\n",
       "      <th>Population</th>\n",
       "      <th>% of world</th>\n",
       "      <th>Date</th>\n",
       "    </tr>\n",
       "  </thead>\n",
       "  <tbody>\n",
       "    <tr>\n",
       "      <th>0</th>\n",
       "      <td>1</td>\n",
       "      <td>China</td>\n",
       "      <td>Asia</td>\n",
       "      <td>1412600000</td>\n",
       "      <td>17.80%</td>\n",
       "      <td>31-Dec-21</td>\n",
       "    </tr>\n",
       "    <tr>\n",
       "      <th>1</th>\n",
       "      <td>2</td>\n",
       "      <td>India</td>\n",
       "      <td>Asia</td>\n",
       "      <td>1386946912</td>\n",
       "      <td>17.50%</td>\n",
       "      <td>18-Jan-22</td>\n",
       "    </tr>\n",
       "    <tr>\n",
       "      <th>2</th>\n",
       "      <td>3</td>\n",
       "      <td>United States</td>\n",
       "      <td>Americas</td>\n",
       "      <td>333073186</td>\n",
       "      <td>4.20%</td>\n",
       "      <td>18-Jan-22</td>\n",
       "    </tr>\n",
       "    <tr>\n",
       "      <th>3</th>\n",
       "      <td>4</td>\n",
       "      <td>Indonesia</td>\n",
       "      <td>Asia</td>\n",
       "      <td>271350000</td>\n",
       "      <td>3.42%</td>\n",
       "      <td>31-Dec-20</td>\n",
       "    </tr>\n",
       "    <tr>\n",
       "      <th>4</th>\n",
       "      <td>5</td>\n",
       "      <td>Pakistan</td>\n",
       "      <td>Asia</td>\n",
       "      <td>225200000</td>\n",
       "      <td>2.84%</td>\n",
       "      <td>01-Jul-21</td>\n",
       "    </tr>\n",
       "    <tr>\n",
       "      <th>5</th>\n",
       "      <td>6</td>\n",
       "      <td>Brazil</td>\n",
       "      <td>Americas</td>\n",
       "      <td>214231641</td>\n",
       "      <td>2.70%</td>\n",
       "      <td>18-Jan-22</td>\n",
       "    </tr>\n",
       "    <tr>\n",
       "      <th>6</th>\n",
       "      <td>7</td>\n",
       "      <td>Nigeria</td>\n",
       "      <td>Africa</td>\n",
       "      <td>211401000</td>\n",
       "      <td>2.67%</td>\n",
       "      <td>01-Jul-21</td>\n",
       "    </tr>\n",
       "    <tr>\n",
       "      <th>7</th>\n",
       "      <td>8</td>\n",
       "      <td>Bangladesh</td>\n",
       "      <td>Asia</td>\n",
       "      <td>172062576</td>\n",
       "      <td>2.17%</td>\n",
       "      <td>18-Jan-22</td>\n",
       "    </tr>\n",
       "    <tr>\n",
       "      <th>8</th>\n",
       "      <td>9</td>\n",
       "      <td>Russia</td>\n",
       "      <td>Europe</td>\n",
       "      <td>146171015</td>\n",
       "      <td>1.84%</td>\n",
       "      <td>01-Jan-21</td>\n",
       "    </tr>\n",
       "    <tr>\n",
       "      <th>9</th>\n",
       "      <td>10</td>\n",
       "      <td>Mexico</td>\n",
       "      <td>Americas</td>\n",
       "      <td>126014024</td>\n",
       "      <td>1.59%</td>\n",
       "      <td>02-Mar-20</td>\n",
       "    </tr>\n",
       "  </tbody>\n",
       "</table>\n",
       "</div>"
      ],
      "text/plain": [
       "   Rank Country / Dependency    Region  Population % of world       Date\n",
       "0     1                China      Asia  1412600000     17.80%  31-Dec-21\n",
       "1     2                India      Asia  1386946912     17.50%  18-Jan-22\n",
       "2     3        United States  Americas   333073186      4.20%  18-Jan-22\n",
       "3     4            Indonesia      Asia   271350000      3.42%  31-Dec-20\n",
       "4     5             Pakistan      Asia   225200000      2.84%  01-Jul-21\n",
       "5     6               Brazil  Americas   214231641      2.70%  18-Jan-22\n",
       "6     7              Nigeria    Africa   211401000      2.67%  01-Jul-21\n",
       "7     8           Bangladesh      Asia   172062576      2.17%  18-Jan-22\n",
       "8     9               Russia    Europe   146171015      1.84%  01-Jan-21\n",
       "9    10               Mexico  Americas   126014024      1.59%  02-Mar-20"
      ]
     },
     "execution_count": 8,
     "metadata": {},
     "output_type": "execute_result"
    }
   ],
   "source": [
    "df = pd.read_csv('top_10_countries.csv')\n",
    "df"
   ]
  },
  {
   "cell_type": "code",
   "execution_count": 9,
   "id": "e7b3d44f-f63d-45c2-9086-f066e4a5dd2e",
   "metadata": {
    "tags": []
   },
   "outputs": [
    {
     "data": {
      "text/html": [
       "<div>\n",
       "<style scoped>\n",
       "    .dataframe tbody tr th:only-of-type {\n",
       "        vertical-align: middle;\n",
       "    }\n",
       "\n",
       "    .dataframe tbody tr th {\n",
       "        vertical-align: top;\n",
       "    }\n",
       "\n",
       "    .dataframe thead th {\n",
       "        text-align: right;\n",
       "    }\n",
       "</style>\n",
       "<table border=\"1\" class=\"dataframe\">\n",
       "  <thead>\n",
       "    <tr style=\"text-align: right;\">\n",
       "      <th></th>\n",
       "      <th>Rank</th>\n",
       "      <th>Country / Dependency</th>\n",
       "      <th>Region</th>\n",
       "      <th>Population</th>\n",
       "      <th>% of world</th>\n",
       "      <th>Date</th>\n",
       "    </tr>\n",
       "  </thead>\n",
       "  <tbody>\n",
       "    <tr>\n",
       "      <th>0</th>\n",
       "      <td>1</td>\n",
       "      <td>China</td>\n",
       "      <td>Asia</td>\n",
       "      <td>1412600000</td>\n",
       "      <td>17.80%</td>\n",
       "      <td>31-Dec-21</td>\n",
       "    </tr>\n",
       "    <tr>\n",
       "      <th>1</th>\n",
       "      <td>2</td>\n",
       "      <td>India</td>\n",
       "      <td>Asia</td>\n",
       "      <td>1386946912</td>\n",
       "      <td>17.50%</td>\n",
       "      <td>18-Jan-22</td>\n",
       "    </tr>\n",
       "    <tr>\n",
       "      <th>2</th>\n",
       "      <td>3</td>\n",
       "      <td>United States</td>\n",
       "      <td>Americas</td>\n",
       "      <td>333073186</td>\n",
       "      <td>4.20%</td>\n",
       "      <td>18-Jan-22</td>\n",
       "    </tr>\n",
       "    <tr>\n",
       "      <th>3</th>\n",
       "      <td>4</td>\n",
       "      <td>Indonesia</td>\n",
       "      <td>Asia</td>\n",
       "      <td>271350000</td>\n",
       "      <td>3.42%</td>\n",
       "      <td>31-Dec-20</td>\n",
       "    </tr>\n",
       "    <tr>\n",
       "      <th>4</th>\n",
       "      <td>5</td>\n",
       "      <td>Pakistan</td>\n",
       "      <td>Asia</td>\n",
       "      <td>225200000</td>\n",
       "      <td>2.84%</td>\n",
       "      <td>01-Jul-21</td>\n",
       "    </tr>\n",
       "    <tr>\n",
       "      <th>5</th>\n",
       "      <td>6</td>\n",
       "      <td>Brazil</td>\n",
       "      <td>Americas</td>\n",
       "      <td>214231641</td>\n",
       "      <td>2.70%</td>\n",
       "      <td>18-Jan-22</td>\n",
       "    </tr>\n",
       "    <tr>\n",
       "      <th>6</th>\n",
       "      <td>7</td>\n",
       "      <td>Nigeria</td>\n",
       "      <td>Africa</td>\n",
       "      <td>211401000</td>\n",
       "      <td>2.67%</td>\n",
       "      <td>01-Jul-21</td>\n",
       "    </tr>\n",
       "    <tr>\n",
       "      <th>7</th>\n",
       "      <td>8</td>\n",
       "      <td>Bangladesh</td>\n",
       "      <td>Asia</td>\n",
       "      <td>172062576</td>\n",
       "      <td>2.17%</td>\n",
       "      <td>18-Jan-22</td>\n",
       "    </tr>\n",
       "    <tr>\n",
       "      <th>8</th>\n",
       "      <td>9</td>\n",
       "      <td>Russia</td>\n",
       "      <td>Europe</td>\n",
       "      <td>146171015</td>\n",
       "      <td>1.84%</td>\n",
       "      <td>01-Jan-21</td>\n",
       "    </tr>\n",
       "    <tr>\n",
       "      <th>9</th>\n",
       "      <td>10</td>\n",
       "      <td>Mexico</td>\n",
       "      <td>Americas</td>\n",
       "      <td>126014024</td>\n",
       "      <td>1.59%</td>\n",
       "      <td>02-Mar-20</td>\n",
       "    </tr>\n",
       "  </tbody>\n",
       "</table>\n",
       "</div>"
      ],
      "text/plain": [
       "   Rank Country / Dependency    Region  Population % of world       Date\n",
       "0     1                China      Asia  1412600000     17.80%  31-Dec-21\n",
       "1     2                India      Asia  1386946912     17.50%  18-Jan-22\n",
       "2     3        United States  Americas   333073186      4.20%  18-Jan-22\n",
       "3     4            Indonesia      Asia   271350000      3.42%  31-Dec-20\n",
       "4     5             Pakistan      Asia   225200000      2.84%  01-Jul-21\n",
       "5     6               Brazil  Americas   214231641      2.70%  18-Jan-22\n",
       "6     7              Nigeria    Africa   211401000      2.67%  01-Jul-21\n",
       "7     8           Bangladesh      Asia   172062576      2.17%  18-Jan-22\n",
       "8     9               Russia    Europe   146171015      1.84%  01-Jan-21\n",
       "9    10               Mexico  Americas   126014024      1.59%  02-Mar-20"
      ]
     },
     "execution_count": 9,
     "metadata": {},
     "output_type": "execute_result"
    }
   ],
   "source": [
    "df.head(10)"
   ]
  },
  {
   "cell_type": "code",
   "execution_count": 10,
   "id": "142abf5c-5eaf-41ea-80c4-d3667005b45b",
   "metadata": {
    "tags": []
   },
   "outputs": [
    {
     "data": {
      "text/html": [
       "<div>\n",
       "<style scoped>\n",
       "    .dataframe tbody tr th:only-of-type {\n",
       "        vertical-align: middle;\n",
       "    }\n",
       "\n",
       "    .dataframe tbody tr th {\n",
       "        vertical-align: top;\n",
       "    }\n",
       "\n",
       "    .dataframe thead th {\n",
       "        text-align: right;\n",
       "    }\n",
       "</style>\n",
       "<table border=\"1\" class=\"dataframe\">\n",
       "  <thead>\n",
       "    <tr style=\"text-align: right;\">\n",
       "      <th></th>\n",
       "      <th>Rank</th>\n",
       "      <th>Country</th>\n",
       "      <th>Region</th>\n",
       "      <th>Population</th>\n",
       "      <th>% of world</th>\n",
       "      <th>Date</th>\n",
       "    </tr>\n",
       "  </thead>\n",
       "  <tbody>\n",
       "    <tr>\n",
       "      <th>0</th>\n",
       "      <td>1</td>\n",
       "      <td>China</td>\n",
       "      <td>Asia</td>\n",
       "      <td>1412600000</td>\n",
       "      <td>17.80%</td>\n",
       "      <td>31-Dec-21</td>\n",
       "    </tr>\n",
       "    <tr>\n",
       "      <th>1</th>\n",
       "      <td>2</td>\n",
       "      <td>India</td>\n",
       "      <td>Asia</td>\n",
       "      <td>1386946912</td>\n",
       "      <td>17.50%</td>\n",
       "      <td>18-Jan-22</td>\n",
       "    </tr>\n",
       "    <tr>\n",
       "      <th>2</th>\n",
       "      <td>3</td>\n",
       "      <td>United States</td>\n",
       "      <td>Americas</td>\n",
       "      <td>333073186</td>\n",
       "      <td>4.20%</td>\n",
       "      <td>18-Jan-22</td>\n",
       "    </tr>\n",
       "    <tr>\n",
       "      <th>3</th>\n",
       "      <td>4</td>\n",
       "      <td>Indonesia</td>\n",
       "      <td>Asia</td>\n",
       "      <td>271350000</td>\n",
       "      <td>3.42%</td>\n",
       "      <td>31-Dec-20</td>\n",
       "    </tr>\n",
       "    <tr>\n",
       "      <th>4</th>\n",
       "      <td>5</td>\n",
       "      <td>Pakistan</td>\n",
       "      <td>Asia</td>\n",
       "      <td>225200000</td>\n",
       "      <td>2.84%</td>\n",
       "      <td>01-Jul-21</td>\n",
       "    </tr>\n",
       "    <tr>\n",
       "      <th>5</th>\n",
       "      <td>6</td>\n",
       "      <td>Brazil</td>\n",
       "      <td>Americas</td>\n",
       "      <td>214231641</td>\n",
       "      <td>2.70%</td>\n",
       "      <td>18-Jan-22</td>\n",
       "    </tr>\n",
       "    <tr>\n",
       "      <th>6</th>\n",
       "      <td>7</td>\n",
       "      <td>Nigeria</td>\n",
       "      <td>Africa</td>\n",
       "      <td>211401000</td>\n",
       "      <td>2.67%</td>\n",
       "      <td>01-Jul-21</td>\n",
       "    </tr>\n",
       "    <tr>\n",
       "      <th>7</th>\n",
       "      <td>8</td>\n",
       "      <td>Bangladesh</td>\n",
       "      <td>Asia</td>\n",
       "      <td>172062576</td>\n",
       "      <td>2.17%</td>\n",
       "      <td>18-Jan-22</td>\n",
       "    </tr>\n",
       "    <tr>\n",
       "      <th>8</th>\n",
       "      <td>9</td>\n",
       "      <td>Russia</td>\n",
       "      <td>Europe</td>\n",
       "      <td>146171015</td>\n",
       "      <td>1.84%</td>\n",
       "      <td>01-Jan-21</td>\n",
       "    </tr>\n",
       "    <tr>\n",
       "      <th>9</th>\n",
       "      <td>10</td>\n",
       "      <td>Mexico</td>\n",
       "      <td>Americas</td>\n",
       "      <td>126014024</td>\n",
       "      <td>1.59%</td>\n",
       "      <td>02-Mar-20</td>\n",
       "    </tr>\n",
       "  </tbody>\n",
       "</table>\n",
       "</div>"
      ],
      "text/plain": [
       "   Rank         Country    Region  Population % of world       Date\n",
       "0     1           China      Asia  1412600000     17.80%  31-Dec-21\n",
       "1     2           India      Asia  1386946912     17.50%  18-Jan-22\n",
       "2     3   United States  Americas   333073186      4.20%  18-Jan-22\n",
       "3     4       Indonesia      Asia   271350000      3.42%  31-Dec-20\n",
       "4     5        Pakistan      Asia   225200000      2.84%  01-Jul-21\n",
       "5     6          Brazil  Americas   214231641      2.70%  18-Jan-22\n",
       "6     7         Nigeria    Africa   211401000      2.67%  01-Jul-21\n",
       "7     8      Bangladesh      Asia   172062576      2.17%  18-Jan-22\n",
       "8     9          Russia    Europe   146171015      1.84%  01-Jan-21\n",
       "9    10          Mexico  Americas   126014024      1.59%  02-Mar-20"
      ]
     },
     "execution_count": 10,
     "metadata": {},
     "output_type": "execute_result"
    }
   ],
   "source": [
    "#column Name change \n",
    "df.rename(columns={'Country / Dependency':'Country'},inplace=True)\n",
    "df"
   ]
  },
  {
   "cell_type": "code",
   "execution_count": 11,
   "id": "0b7675ec-b54b-4e62-9101-02239560862e",
   "metadata": {
    "tags": []
   },
   "outputs": [
    {
     "data": {
      "text/html": [
       "<div>\n",
       "<style scoped>\n",
       "    .dataframe tbody tr th:only-of-type {\n",
       "        vertical-align: middle;\n",
       "    }\n",
       "\n",
       "    .dataframe tbody tr th {\n",
       "        vertical-align: top;\n",
       "    }\n",
       "\n",
       "    .dataframe thead th {\n",
       "        text-align: right;\n",
       "    }\n",
       "</style>\n",
       "<table border=\"1\" class=\"dataframe\">\n",
       "  <thead>\n",
       "    <tr style=\"text-align: right;\">\n",
       "      <th></th>\n",
       "      <th>Region</th>\n",
       "      <th>Population</th>\n",
       "    </tr>\n",
       "  </thead>\n",
       "  <tbody>\n",
       "    <tr>\n",
       "      <th>0</th>\n",
       "      <td>Asia</td>\n",
       "      <td>1412600000</td>\n",
       "    </tr>\n",
       "    <tr>\n",
       "      <th>1</th>\n",
       "      <td>Asia</td>\n",
       "      <td>1386946912</td>\n",
       "    </tr>\n",
       "    <tr>\n",
       "      <th>2</th>\n",
       "      <td>Americas</td>\n",
       "      <td>333073186</td>\n",
       "    </tr>\n",
       "    <tr>\n",
       "      <th>3</th>\n",
       "      <td>Asia</td>\n",
       "      <td>271350000</td>\n",
       "    </tr>\n",
       "    <tr>\n",
       "      <th>4</th>\n",
       "      <td>Asia</td>\n",
       "      <td>225200000</td>\n",
       "    </tr>\n",
       "    <tr>\n",
       "      <th>5</th>\n",
       "      <td>Americas</td>\n",
       "      <td>214231641</td>\n",
       "    </tr>\n",
       "    <tr>\n",
       "      <th>6</th>\n",
       "      <td>Africa</td>\n",
       "      <td>211401000</td>\n",
       "    </tr>\n",
       "    <tr>\n",
       "      <th>7</th>\n",
       "      <td>Asia</td>\n",
       "      <td>172062576</td>\n",
       "    </tr>\n",
       "    <tr>\n",
       "      <th>8</th>\n",
       "      <td>Europe</td>\n",
       "      <td>146171015</td>\n",
       "    </tr>\n",
       "    <tr>\n",
       "      <th>9</th>\n",
       "      <td>Americas</td>\n",
       "      <td>126014024</td>\n",
       "    </tr>\n",
       "  </tbody>\n",
       "</table>\n",
       "</div>"
      ],
      "text/plain": [
       "     Region  Population\n",
       "0      Asia  1412600000\n",
       "1      Asia  1386946912\n",
       "2  Americas   333073186\n",
       "3      Asia   271350000\n",
       "4      Asia   225200000\n",
       "5  Americas   214231641\n",
       "6    Africa   211401000\n",
       "7      Asia   172062576\n",
       "8    Europe   146171015\n",
       "9  Americas   126014024"
      ]
     },
     "execution_count": 11,
     "metadata": {},
     "output_type": "execute_result"
    }
   ],
   "source": [
    "df_g = df[['Region','Population']]\n",
    "df_g"
   ]
  },
  {
   "cell_type": "code",
   "execution_count": 12,
   "id": "937c540e-9351-4e07-b61b-c32c68fece47",
   "metadata": {
    "tags": []
   },
   "outputs": [
    {
     "data": {
      "text/html": [
       "<div>\n",
       "<style scoped>\n",
       "    .dataframe tbody tr th:only-of-type {\n",
       "        vertical-align: middle;\n",
       "    }\n",
       "\n",
       "    .dataframe tbody tr th {\n",
       "        vertical-align: top;\n",
       "    }\n",
       "\n",
       "    .dataframe thead th {\n",
       "        text-align: right;\n",
       "    }\n",
       "</style>\n",
       "<table border=\"1\" class=\"dataframe\">\n",
       "  <thead>\n",
       "    <tr style=\"text-align: right;\">\n",
       "      <th></th>\n",
       "      <th>Population</th>\n",
       "    </tr>\n",
       "    <tr>\n",
       "      <th>Region</th>\n",
       "      <th></th>\n",
       "    </tr>\n",
       "  </thead>\n",
       "  <tbody>\n",
       "    <tr>\n",
       "      <th>Africa</th>\n",
       "      <td>211401000</td>\n",
       "    </tr>\n",
       "    <tr>\n",
       "      <th>Americas</th>\n",
       "      <td>673318851</td>\n",
       "    </tr>\n",
       "    <tr>\n",
       "      <th>Asia</th>\n",
       "      <td>3468159488</td>\n",
       "    </tr>\n",
       "    <tr>\n",
       "      <th>Europe</th>\n",
       "      <td>146171015</td>\n",
       "    </tr>\n",
       "  </tbody>\n",
       "</table>\n",
       "</div>"
      ],
      "text/plain": [
       "          Population\n",
       "Region              \n",
       "Africa     211401000\n",
       "Americas   673318851\n",
       "Asia      3468159488\n",
       "Europe     146171015"
      ]
     },
     "execution_count": 12,
     "metadata": {},
     "output_type": "execute_result"
    }
   ],
   "source": [
    "#group by on Region column,sum aggregation\n",
    "df_g = df_g.groupby(by='Region').sum()\n",
    "df_g"
   ]
  },
  {
   "cell_type": "code",
   "execution_count": 13,
   "id": "d8c55bc6-4a7c-4bf1-8bac-0119b530b355",
   "metadata": {
    "tags": []
   },
   "outputs": [
    {
     "data": {
      "text/html": [
       "<div>\n",
       "<style scoped>\n",
       "    .dataframe tbody tr th:only-of-type {\n",
       "        vertical-align: middle;\n",
       "    }\n",
       "\n",
       "    .dataframe tbody tr th {\n",
       "        vertical-align: top;\n",
       "    }\n",
       "\n",
       "    .dataframe thead th {\n",
       "        text-align: right;\n",
       "    }\n",
       "</style>\n",
       "<table border=\"1\" class=\"dataframe\">\n",
       "  <thead>\n",
       "    <tr style=\"text-align: right;\">\n",
       "      <th></th>\n",
       "      <th>Region</th>\n",
       "      <th>Population</th>\n",
       "    </tr>\n",
       "  </thead>\n",
       "  <tbody>\n",
       "    <tr>\n",
       "      <th>0</th>\n",
       "      <td>Africa</td>\n",
       "      <td>211401000</td>\n",
       "    </tr>\n",
       "    <tr>\n",
       "      <th>1</th>\n",
       "      <td>Americas</td>\n",
       "      <td>673318851</td>\n",
       "    </tr>\n",
       "    <tr>\n",
       "      <th>2</th>\n",
       "      <td>Asia</td>\n",
       "      <td>3468159488</td>\n",
       "    </tr>\n",
       "    <tr>\n",
       "      <th>3</th>\n",
       "      <td>Europe</td>\n",
       "      <td>146171015</td>\n",
       "    </tr>\n",
       "  </tbody>\n",
       "</table>\n",
       "</div>"
      ],
      "text/plain": [
       "     Region  Population\n",
       "0    Africa   211401000\n",
       "1  Americas   673318851\n",
       "2      Asia  3468159488\n",
       "3    Europe   146171015"
      ]
     },
     "execution_count": 13,
     "metadata": {},
     "output_type": "execute_result"
    }
   ],
   "source": [
    "#Resetting index of Region to column\n",
    "df_g.reset_index(inplace=True)\n",
    "df_g"
   ]
  },
  {
   "cell_type": "markdown",
   "id": "172caef4-4e36-4f69-b4d0-4e5b6cf9ce3c",
   "metadata": {},
   "source": [
    "**🧧🧧🧧**\n",
    "🧧🧧🧧\n",
    "**Bar Plots On Matplotlib**\n",
    "**🧧🧧🧧**\n",
    "🧧🧧🧧"
   ]
  },
  {
   "cell_type": "code",
   "execution_count": 14,
   "id": "01c6eb29-5c6c-44d5-a907-b292be854a4a",
   "metadata": {
    "tags": []
   },
   "outputs": [
    {
     "data": {
      "text/plain": [
       "Text(0.5, 1.0, 'Top 10 Countries Groupwise Population')"
      ]
     },
     "execution_count": 14,
     "metadata": {},
     "output_type": "execute_result"
    },
    {
     "data": {
      "image/png": "[encoded data removed]",
      "text/plain": [
       "<Figure size 500x500 with 1 Axes>"
      ]
     },
     "metadata": {},
     "output_type": "display_data"
    }
   ],
   "source": [
    "#Creating Figure Object\n",
    "\n",
    "#Plot Area \n",
    "fig = plt.figure(figsize=(5,5))\n",
    "\n",
    "#Axes \n",
    "axes = fig.add_axes([0,0,1,1])\n",
    "axes.set_xlabel('Region')\n",
    "axes.set_ylabel('Total Population')\n",
    "axes.set_title(\"Top 10 Countries Groupwise Population\")\n"
   ]
  },
  {
   "cell_type": "code",
   "execution_count": 15,
   "id": "539114f9-4d12-463f-906d-8493e0ead598",
   "metadata": {},
   "outputs": [
    {
     "data": {
      "image/png": "[encoded data removed]",
      "text/plain": [
       "<Figure size 500x500 with 1 Axes>"
      ]
     },
     "metadata": {},
     "output_type": "display_data"
    }
   ],
   "source": [
    "#Adding Bar plot \n",
    "#plot area \n",
    "fig=plt.figure(figsize=(5,5))\n",
    "#axes \n",
    "axes = fig.add_axes([0,0,1,1])\n",
    "axes.set_xlabel(\"Region\")\n",
    "axes.set_ylabel(\"Population\")\n",
    "axes.set_title(\"Top 10 Countries Population By Region\")\n",
    "\n",
    "#Bar Plot \n",
    "plt.bar(x=df_g['Region'],height=df_g['Population'],color=colors)\n",
    "plt.show()"
   ]
  },
  {
   "cell_type": "code",
   "execution_count": 16,
   "id": "fdb5dcf3-a716-4952-8801-69d1deb8a6d5",
   "metadata": {
    "tags": []
   },
   "outputs": [
    {
     "data": {
      "text/plain": [
       "<BarContainer object of 4 artists>"
      ]
     },
     "execution_count": 16,
     "metadata": {},
     "output_type": "execute_result"
    },
    {
     "data": {
      "image/png": "[encoded data removed]",
      "text/plain": [
       "<Figure size 500x500 with 1 Axes>"
      ]
     },
     "metadata": {},
     "output_type": "display_data"
    }
   ],
   "source": [
    "#if we want to sort the value \n",
    "df_g.sort_values('Population',ascending=False,inplace=True)\n",
    "\n",
    "#plot area \n",
    "fig=plt.figure(figsize=(5,5))\n",
    "#axes \n",
    "axes = fig.add_axes([0,0,1,1])\n",
    "axes.set_xlabel('Region')\n",
    "axes.set_ylabel(\"Population\")\n",
    "axes.set_title(\"Top 10 Countries Population By Region\")\n",
    "\n",
    "#bar plot \n",
    "plt.bar(df_g['Region'],df_g['Population'],color=['b','g','r','y'])\n"
   ]
  },
  {
   "cell_type": "code",
   "execution_count": 17,
   "id": "0c41512f-2444-449d-8f80-d35b39b25709",
   "metadata": {
    "tags": []
   },
   "outputs": [
    {
     "data": {
      "text/html": [
       "<div>\n",
       "<style scoped>\n",
       "    .dataframe tbody tr th:only-of-type {\n",
       "        vertical-align: middle;\n",
       "    }\n",
       "\n",
       "    .dataframe tbody tr th {\n",
       "        vertical-align: top;\n",
       "    }\n",
       "\n",
       "    .dataframe thead th {\n",
       "        text-align: right;\n",
       "    }\n",
       "</style>\n",
       "<table border=\"1\" class=\"dataframe\">\n",
       "  <thead>\n",
       "    <tr style=\"text-align: right;\">\n",
       "      <th></th>\n",
       "      <th>Rank</th>\n",
       "      <th>Country</th>\n",
       "      <th>Region</th>\n",
       "      <th>Population</th>\n",
       "      <th>% of world</th>\n",
       "      <th>Date</th>\n",
       "    </tr>\n",
       "  </thead>\n",
       "  <tbody>\n",
       "    <tr>\n",
       "      <th>0</th>\n",
       "      <td>1</td>\n",
       "      <td>China</td>\n",
       "      <td>Asia</td>\n",
       "      <td>1412600000</td>\n",
       "      <td>17.80%</td>\n",
       "      <td>31-Dec-21</td>\n",
       "    </tr>\n",
       "    <tr>\n",
       "      <th>1</th>\n",
       "      <td>2</td>\n",
       "      <td>India</td>\n",
       "      <td>Asia</td>\n",
       "      <td>1386946912</td>\n",
       "      <td>17.50%</td>\n",
       "      <td>18-Jan-22</td>\n",
       "    </tr>\n",
       "    <tr>\n",
       "      <th>2</th>\n",
       "      <td>3</td>\n",
       "      <td>United States</td>\n",
       "      <td>Americas</td>\n",
       "      <td>333073186</td>\n",
       "      <td>4.20%</td>\n",
       "      <td>18-Jan-22</td>\n",
       "    </tr>\n",
       "    <tr>\n",
       "      <th>3</th>\n",
       "      <td>4</td>\n",
       "      <td>Indonesia</td>\n",
       "      <td>Asia</td>\n",
       "      <td>271350000</td>\n",
       "      <td>3.42%</td>\n",
       "      <td>31-Dec-20</td>\n",
       "    </tr>\n",
       "    <tr>\n",
       "      <th>4</th>\n",
       "      <td>5</td>\n",
       "      <td>Pakistan</td>\n",
       "      <td>Asia</td>\n",
       "      <td>225200000</td>\n",
       "      <td>2.84%</td>\n",
       "      <td>01-Jul-21</td>\n",
       "    </tr>\n",
       "    <tr>\n",
       "      <th>5</th>\n",
       "      <td>6</td>\n",
       "      <td>Brazil</td>\n",
       "      <td>Americas</td>\n",
       "      <td>214231641</td>\n",
       "      <td>2.70%</td>\n",
       "      <td>18-Jan-22</td>\n",
       "    </tr>\n",
       "    <tr>\n",
       "      <th>6</th>\n",
       "      <td>7</td>\n",
       "      <td>Nigeria</td>\n",
       "      <td>Africa</td>\n",
       "      <td>211401000</td>\n",
       "      <td>2.67%</td>\n",
       "      <td>01-Jul-21</td>\n",
       "    </tr>\n",
       "    <tr>\n",
       "      <th>7</th>\n",
       "      <td>8</td>\n",
       "      <td>Bangladesh</td>\n",
       "      <td>Asia</td>\n",
       "      <td>172062576</td>\n",
       "      <td>2.17%</td>\n",
       "      <td>18-Jan-22</td>\n",
       "    </tr>\n",
       "    <tr>\n",
       "      <th>8</th>\n",
       "      <td>9</td>\n",
       "      <td>Russia</td>\n",
       "      <td>Europe</td>\n",
       "      <td>146171015</td>\n",
       "      <td>1.84%</td>\n",
       "      <td>01-Jan-21</td>\n",
       "    </tr>\n",
       "    <tr>\n",
       "      <th>9</th>\n",
       "      <td>10</td>\n",
       "      <td>Mexico</td>\n",
       "      <td>Americas</td>\n",
       "      <td>126014024</td>\n",
       "      <td>1.59%</td>\n",
       "      <td>02-Mar-20</td>\n",
       "    </tr>\n",
       "  </tbody>\n",
       "</table>\n",
       "</div>"
      ],
      "text/plain": [
       "   Rank         Country    Region  Population % of world       Date\n",
       "0     1           China      Asia  1412600000     17.80%  31-Dec-21\n",
       "1     2           India      Asia  1386946912     17.50%  18-Jan-22\n",
       "2     3   United States  Americas   333073186      4.20%  18-Jan-22\n",
       "3     4       Indonesia      Asia   271350000      3.42%  31-Dec-20\n",
       "4     5        Pakistan      Asia   225200000      2.84%  01-Jul-21\n",
       "5     6          Brazil  Americas   214231641      2.70%  18-Jan-22\n",
       "6     7         Nigeria    Africa   211401000      2.67%  01-Jul-21\n",
       "7     8      Bangladesh      Asia   172062576      2.17%  18-Jan-22\n",
       "8     9          Russia    Europe   146171015      1.84%  01-Jan-21\n",
       "9    10          Mexico  Americas   126014024      1.59%  02-Mar-20"
      ]
     },
     "execution_count": 17,
     "metadata": {},
     "output_type": "execute_result"
    }
   ],
   "source": [
    "df"
   ]
  },
  {
   "cell_type": "code",
   "execution_count": 18,
   "id": "cebe7e04-52f2-4601-afc2-2ec36971f808",
   "metadata": {
    "tags": []
   },
   "outputs": [
    {
     "data": {
      "text/plain": [
       "<BarContainer object of 10 artists>"
      ]
     },
     "execution_count": 18,
     "metadata": {},
     "output_type": "execute_result"
    },
    {
     "data": {
      "image/png": "[encoded data removed]",
      "text/plain": [
       "<Figure size 500x500 with 1 Axes>"
      ]
     },
     "metadata": {},
     "output_type": "display_data"
    }
   ],
   "source": [
    "#Bar Plots in matplotlib require the column on x axis to be at the lowest level of detail \n",
    "#Otherwise the rectangles overlap each other\n",
    "#this is handled more intultively Seaborn\n",
    "\n",
    "#plot area \n",
    "fig = plt.figure(figsize=[5,5])\n",
    "#axes \n",
    "axes=fig.add_axes([0,0,1,1])\n",
    "axes.set_xlabel('Region')\n",
    "axes.set_ylabel(\"Population\")\n",
    "axes.set_title(\"Top 10 Countries Population By Region\")\n",
    "\n",
    "#bar plot \n",
    "plt.bar(df['Region'],df['Population'],color=colors,edgecolor='black')"
   ]
  },
  {
   "cell_type": "markdown",
   "id": "19d30212-b37c-4ff1-8ae5-1ca5cd07d774",
   "metadata": {},
   "source": [
    "🧨Horizontal Bar Plots"
   ]
  },
  {
   "cell_type": "code",
   "execution_count": 19,
   "id": "cf1db540-4a90-4e1c-8a07-f9935eb601e0",
   "metadata": {
    "tags": []
   },
   "outputs": [
    {
     "data": {
      "image/png": "[encoded data removed]",
      "text/plain": [
       "<Figure size 500x500 with 2 Axes>"
      ]
     },
     "metadata": {},
     "output_type": "display_data"
    }
   ],
   "source": [
    "#plot area \n",
    "fig=plt.figure(figsize=(5,5))\n",
    "#axes\n",
    "axes1=fig.add_axes([0,0,1,1])\n",
    "axes2=fig.add_axes([1.3,0,1,1])"
   ]
  },
  {
   "cell_type": "code",
   "execution_count": 20,
   "id": "cbf34d68-e882-410e-98da-257cf1fddafb",
   "metadata": {
    "tags": []
   },
   "outputs": [
    {
     "data": {
      "text/html": [
       "<div>\n",
       "<style scoped>\n",
       "    .dataframe tbody tr th:only-of-type {\n",
       "        vertical-align: middle;\n",
       "    }\n",
       "\n",
       "    .dataframe tbody tr th {\n",
       "        vertical-align: top;\n",
       "    }\n",
       "\n",
       "    .dataframe thead th {\n",
       "        text-align: right;\n",
       "    }\n",
       "</style>\n",
       "<table border=\"1\" class=\"dataframe\">\n",
       "  <thead>\n",
       "    <tr style=\"text-align: right;\">\n",
       "      <th></th>\n",
       "      <th>Region</th>\n",
       "      <th>Population</th>\n",
       "    </tr>\n",
       "  </thead>\n",
       "  <tbody>\n",
       "    <tr>\n",
       "      <th>2</th>\n",
       "      <td>Asia</td>\n",
       "      <td>3468159488</td>\n",
       "    </tr>\n",
       "    <tr>\n",
       "      <th>1</th>\n",
       "      <td>Americas</td>\n",
       "      <td>673318851</td>\n",
       "    </tr>\n",
       "    <tr>\n",
       "      <th>0</th>\n",
       "      <td>Africa</td>\n",
       "      <td>211401000</td>\n",
       "    </tr>\n",
       "    <tr>\n",
       "      <th>3</th>\n",
       "      <td>Europe</td>\n",
       "      <td>146171015</td>\n",
       "    </tr>\n",
       "  </tbody>\n",
       "</table>\n",
       "</div>"
      ],
      "text/plain": [
       "     Region  Population\n",
       "2      Asia  3468159488\n",
       "1  Americas   673318851\n",
       "0    Africa   211401000\n",
       "3    Europe   146171015"
      ]
     },
     "execution_count": 20,
     "metadata": {},
     "output_type": "execute_result"
    }
   ],
   "source": [
    "df_g"
   ]
  },
  {
   "cell_type": "code",
   "execution_count": 21,
   "id": "fc915208-a1ca-46b7-a2a4-a10b6bddad7f",
   "metadata": {
    "tags": []
   },
   "outputs": [
    {
     "data": {
      "text/html": [
       "<div>\n",
       "<style scoped>\n",
       "    .dataframe tbody tr th:only-of-type {\n",
       "        vertical-align: middle;\n",
       "    }\n",
       "\n",
       "    .dataframe tbody tr th {\n",
       "        vertical-align: top;\n",
       "    }\n",
       "\n",
       "    .dataframe thead th {\n",
       "        text-align: right;\n",
       "    }\n",
       "</style>\n",
       "<table border=\"1\" class=\"dataframe\">\n",
       "  <thead>\n",
       "    <tr style=\"text-align: right;\">\n",
       "      <th></th>\n",
       "      <th>Rank</th>\n",
       "      <th>Country</th>\n",
       "      <th>Region</th>\n",
       "      <th>Population</th>\n",
       "      <th>% of world</th>\n",
       "      <th>Date</th>\n",
       "    </tr>\n",
       "  </thead>\n",
       "  <tbody>\n",
       "    <tr>\n",
       "      <th>0</th>\n",
       "      <td>1</td>\n",
       "      <td>China</td>\n",
       "      <td>Asia</td>\n",
       "      <td>1412600000</td>\n",
       "      <td>17.80%</td>\n",
       "      <td>31-Dec-21</td>\n",
       "    </tr>\n",
       "    <tr>\n",
       "      <th>1</th>\n",
       "      <td>2</td>\n",
       "      <td>India</td>\n",
       "      <td>Asia</td>\n",
       "      <td>1386946912</td>\n",
       "      <td>17.50%</td>\n",
       "      <td>18-Jan-22</td>\n",
       "    </tr>\n",
       "    <tr>\n",
       "      <th>2</th>\n",
       "      <td>3</td>\n",
       "      <td>United States</td>\n",
       "      <td>Americas</td>\n",
       "      <td>333073186</td>\n",
       "      <td>4.20%</td>\n",
       "      <td>18-Jan-22</td>\n",
       "    </tr>\n",
       "    <tr>\n",
       "      <th>3</th>\n",
       "      <td>4</td>\n",
       "      <td>Indonesia</td>\n",
       "      <td>Asia</td>\n",
       "      <td>271350000</td>\n",
       "      <td>3.42%</td>\n",
       "      <td>31-Dec-20</td>\n",
       "    </tr>\n",
       "    <tr>\n",
       "      <th>4</th>\n",
       "      <td>5</td>\n",
       "      <td>Pakistan</td>\n",
       "      <td>Asia</td>\n",
       "      <td>225200000</td>\n",
       "      <td>2.84%</td>\n",
       "      <td>01-Jul-21</td>\n",
       "    </tr>\n",
       "    <tr>\n",
       "      <th>5</th>\n",
       "      <td>6</td>\n",
       "      <td>Brazil</td>\n",
       "      <td>Americas</td>\n",
       "      <td>214231641</td>\n",
       "      <td>2.70%</td>\n",
       "      <td>18-Jan-22</td>\n",
       "    </tr>\n",
       "    <tr>\n",
       "      <th>6</th>\n",
       "      <td>7</td>\n",
       "      <td>Nigeria</td>\n",
       "      <td>Africa</td>\n",
       "      <td>211401000</td>\n",
       "      <td>2.67%</td>\n",
       "      <td>01-Jul-21</td>\n",
       "    </tr>\n",
       "    <tr>\n",
       "      <th>7</th>\n",
       "      <td>8</td>\n",
       "      <td>Bangladesh</td>\n",
       "      <td>Asia</td>\n",
       "      <td>172062576</td>\n",
       "      <td>2.17%</td>\n",
       "      <td>18-Jan-22</td>\n",
       "    </tr>\n",
       "    <tr>\n",
       "      <th>8</th>\n",
       "      <td>9</td>\n",
       "      <td>Russia</td>\n",
       "      <td>Europe</td>\n",
       "      <td>146171015</td>\n",
       "      <td>1.84%</td>\n",
       "      <td>01-Jan-21</td>\n",
       "    </tr>\n",
       "    <tr>\n",
       "      <th>9</th>\n",
       "      <td>10</td>\n",
       "      <td>Mexico</td>\n",
       "      <td>Americas</td>\n",
       "      <td>126014024</td>\n",
       "      <td>1.59%</td>\n",
       "      <td>02-Mar-20</td>\n",
       "    </tr>\n",
       "  </tbody>\n",
       "</table>\n",
       "</div>"
      ],
      "text/plain": [
       "   Rank         Country    Region  Population % of world       Date\n",
       "0     1           China      Asia  1412600000     17.80%  31-Dec-21\n",
       "1     2           India      Asia  1386946912     17.50%  18-Jan-22\n",
       "2     3   United States  Americas   333073186      4.20%  18-Jan-22\n",
       "3     4       Indonesia      Asia   271350000      3.42%  31-Dec-20\n",
       "4     5        Pakistan      Asia   225200000      2.84%  01-Jul-21\n",
       "5     6          Brazil  Americas   214231641      2.70%  18-Jan-22\n",
       "6     7         Nigeria    Africa   211401000      2.67%  01-Jul-21\n",
       "7     8      Bangladesh      Asia   172062576      2.17%  18-Jan-22\n",
       "8     9          Russia    Europe   146171015      1.84%  01-Jan-21\n",
       "9    10          Mexico  Americas   126014024      1.59%  02-Mar-20"
      ]
     },
     "execution_count": 21,
     "metadata": {},
     "output_type": "execute_result"
    }
   ],
   "source": [
    "df"
   ]
  },
  {
   "cell_type": "code",
   "execution_count": 22,
   "id": "3e1e5ef6-fb94-44c3-a9ba-77873fed7f38",
   "metadata": {
    "tags": []
   },
   "outputs": [
    {
     "data": {
      "text/plain": [
       "<BarContainer object of 10 artists>"
      ]
     },
     "execution_count": 22,
     "metadata": {},
     "output_type": "execute_result"
    },
    {
     "data": {
      "image/png": "[encoded data removed]",
      "text/plain": [
       "<Figure size 2000x800 with 2 Axes>"
      ]
     },
     "metadata": {},
     "output_type": "display_data"
    }
   ],
   "source": [
    "#creating the figure and axes \n",
    "fig,(axes1,axes2)=plt.subplots(nrows=1,ncols=2,figsize=(20,8))\n",
    "#labels and titles\n",
    "axes1.set_xlabel(\"Region\")\n",
    "axes1.set_ylabel(\"Population\")\n",
    "axes1.set_title(\"Top 10 Countries Population By Region\")\n",
    "\n",
    "axes2.set_xlabel(\"Country\")\n",
    "axes2.set_ylabel(\"Population\")\n",
    "axes2.set_title(\"Top 10 Countries Population\")\n",
    "\n",
    "#bar\n",
    "axes1.bar(df_g['Region'],df_g['Population'],color=colors)\n",
    "\n",
    "#Barh\n",
    "axes2.barh(df[\"Country\"],df[\"Population\"],color=['#d9ed92','#b5e48c','#99d98c','#76c893','#52b69a','#34a0a4','#168aad','#1a759f','#1e6091','#184e77'])\n"
   ]
  },
  {
   "cell_type": "markdown",
   "id": "33dfac8a-0681-4969-8364-aa65e1995446",
   "metadata": {},
   "source": [
    "**🧨🧧⏳creating the figure and axes with value & bar color**"
   ]
  },
  {
   "cell_type": "code",
   "execution_count": 25,
   "id": "bc88eea6-a2db-44e4-bd89-90e3483db4b1",
   "metadata": {
    "tags": []
   },
   "outputs": [
    {
     "data": {
      "text/plain": [
       "(0.0, 1900000000.0)"
      ]
     },
     "execution_count": 25,
     "metadata": {},
     "output_type": "execute_result"
    },
    {
     "data": {
      "image/png": "[encoded data removed]",
      "text/plain": [
       "<Figure size 2000x800 with 2 Axes>"
      ]
     },
     "metadata": {},
     "output_type": "display_data"
    }
   ],
   "source": [
    "#colors\n",
    "colors_2=['#d9ed92','#b5e48c','#99d98c','#76c893','#52b69a','#34a0a4','#168aad','#1a759f','#1e6091','#184e77']\n",
    "#bar plots set \n",
    "fig,(ax1,ax2)=plt.subplots(nrows=1,ncols=2,figsize=(20,8))\n",
    "bars1 = ax1.bar(df_g['Region'],df_g['Population'],color =colors)\n",
    "bars2 = ax2.barh(df['Country'],df['Population'],color=colors_2)\n",
    "#axes and label set and customize \n",
    "for i,bar in enumerate(bars1):\n",
    "    ax1.text(bar.get_x()+bar.get_width()/2,bar.get_height()+0.10,df_g['Population'].iloc[i],ha='center',va='bottom',fontsize=11)\n",
    "ax1.set_xlabel(\"Region\")\n",
    "ax1.set_ylabel(\"Population\")\n",
    "ax1.set_title(\"Top 10 Countries Population By Region\")\n",
    "\n",
    "for i, bar in enumerate(bars2):\n",
    "    ax2.text(bar.get_width() + 0.8, bar.get_y() + bar.get_height() / 2, df['Population'].iloc[i], ha='left', va='center', fontsize=11)\n",
    "ax2.set_xlabel(\"Country\")\n",
    "ax2.set_ylabel(\"Population\")\n",
    "ax2.set_title(\"Top 10 Countries Population\")\n",
    "ax2.set_xlim([0,1900000000])"
   ]
  },
  {
   "cell_type": "code",
   "execution_count": null,
   "id": "c4bc3771-609d-4c01-a9c0-652a348dd950",
   "metadata": {},
   "outputs": [],
   "source": []
  },
  {
   "cell_type": "code",
   "execution_count": null,
   "id": "2d0c6014-d52d-460e-af62-6d0780514676",
   "metadata": {},
   "outputs": [],
   "source": []
  }
 ],
 "metadata": {
  "kernelspec": {
   "display_name": "Python 3 (ipykernel)",
   "language": "python",
   "name": "python3"
  },
  "language_info": {
   "codemirror_mode": {
    "name": "ipython",
    "version": 3
   },
   "file_extension": ".py",
   "mimetype": "text/x-python",
   "name": "python",
   "nbconvert_exporter": "python",
   "pygments_lexer": "ipython3",
   "version": "3.11.1"
  }
 },
 "nbformat": 4,
 "nbformat_minor": 5
}
